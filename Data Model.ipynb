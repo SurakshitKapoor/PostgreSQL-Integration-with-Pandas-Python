{
 "cells": [
  {
   "cell_type": "code",
   "execution_count": 1,
   "id": "f32df4eb",
   "metadata": {},
   "outputs": [],
   "source": [
    "# pip install psycopg2"
   ]
  },
  {
   "cell_type": "code",
   "execution_count": null,
   "id": "70ff8865",
   "metadata": {},
   "outputs": [],
   "source": [
    "import pandas as pd\n",
    "import numpy as np"
   ]
  },
  {
   "cell_type": "markdown",
   "id": "221ef81f",
   "metadata": {},
   "source": [
    "## 1. Make database connection with default database as 'postgres'"
   ]
  },
  {
   "cell_type": "code",
   "execution_count": 2,
   "id": "47d2ee97",
   "metadata": {},
   "outputs": [
    {
     "name": "stdout",
     "output_type": "stream",
     "text": [
      "PostgreSQL version: ('PostgreSQL 17.5 on x86_64-windows, compiled by msvc-19.44.35209, 64-bit',)\n",
      "Connected with Database successfully!\n"
     ]
    }
   ],
   "source": [
    "import psycopg2\n",
    "\n",
    "try:\n",
    "    # Establish connection\n",
    "    conn = psycopg2.connect(\n",
    "        host=\"localhost\",         # or your IP / cloud host\n",
    "        port=\"5432\",              # default PostgreSQL port\n",
    "        database=\"postgres\",      # replace with your DB name\n",
    "        user=\"postgres\",          # replace with your username\n",
    "        password=\"Postgres@14707\" # replace with your password\n",
    "    )\n",
    "\n",
    "    # cursor to execute queries\n",
    "    cur = conn.cursor()\n",
    "        \n",
    "    conn.autocommit = True\n",
    "    \n",
    "    # Run a simple query\n",
    "    cur.execute(\"SELECT version();\")\n",
    "    db_version = cur.fetchone()\n",
    "    print(\"PostgreSQL version:\", db_version)\n",
    "    print(\"Connected with Database successfully!\")\n",
    "\n",
    "except Exception as e:\n",
    "    print(\"Error while connecting:\", e)\n"
   ]
  },
  {
   "cell_type": "markdown",
   "id": "aabd061c",
   "metadata": {},
   "source": [
    "## 2. Create New Database"
   ]
  },
  {
   "cell_type": "code",
   "execution_count": 3,
   "id": "a7b56061",
   "metadata": {},
   "outputs": [
    {
     "name": "stdout",
     "output_type": "stream",
     "text": [
      "New database is created successfully!\n"
     ]
    }
   ],
   "source": [
    "try:\n",
    "    cur.execute(\"CREATE DATABASE my_new_database;\")\n",
    "    print(\"New database is created successfully!\")\n",
    "    \n",
    "#     close the cursor and connection to reconnect with new database\n",
    "    cur.close()\n",
    "    conn.close()\n",
    "    \n",
    "except psycopg2.Error as e:\n",
    "    print(\"Error is: \\n\", e)"
   ]
  },
  {
   "cell_type": "markdown",
   "id": "6dbfea1c",
   "metadata": {},
   "source": [
    "## 3. Connect with new database"
   ]
  },
  {
   "cell_type": "code",
   "execution_count": 4,
   "id": "5f0fdb4d",
   "metadata": {},
   "outputs": [
    {
     "name": "stdout",
     "output_type": "stream",
     "text": [
      "Connected to new database successfully!\n"
     ]
    }
   ],
   "source": [
    "try:\n",
    "    conn = psycopg2.connect(\n",
    "    host=\"localhost\",\n",
    "    port=\"5432\",\n",
    "    database=\"my_new_database\",\n",
    "    user=\"postgres\",\n",
    "    password=\"Postgres@14707\")\n",
    "    \n",
    "    print(\"Connected to new database successfully!\")\n",
    "    \n",
    "except psycopg2.Except as e:\n",
    "    print(e)"
   ]
  },
  {
   "cell_type": "markdown",
   "id": "838a66d9",
   "metadata": {},
   "source": [
    "## 4. Create Table in new database"
   ]
  },
  {
   "cell_type": "code",
   "execution_count": 5,
   "id": "69a42811",
   "metadata": {},
   "outputs": [
    {
     "name": "stdout",
     "output_type": "stream",
     "text": [
      "Table created successfully!\n"
     ]
    }
   ],
   "source": [
    "try:\n",
    "    cur = conn.cursor()\n",
    "    cur.execute(\"\"\"\n",
    "        CREATE TABLE IF NOT EXISTS students (\n",
    "            stud_id INT,\n",
    "            name VARCHAR,\n",
    "            age INT,\n",
    "            gender VARCHAR,\n",
    "            subject VARCHAR,\n",
    "            marks INT\n",
    "        );\n",
    "    \"\"\")\n",
    "    print(\"Table created successfully!\")\n",
    "    conn.commit()\n",
    "    \n",
    "except psycopy2.Error as e:\n",
    "    print(\"Error occured while creating the table:\\n \", e)"
   ]
  },
  {
   "cell_type": "markdown",
   "id": "1c95f3a2",
   "metadata": {},
   "source": [
    "## 5. Insert multiple records in table"
   ]
  },
  {
   "cell_type": "code",
   "execution_count": 6,
   "id": "47f75ba5",
   "metadata": {},
   "outputs": [
    {
     "name": "stdout",
     "output_type": "stream",
     "text": [
      "Records inserted successfully!\n"
     ]
    }
   ],
   "source": [
    "try:\n",
    "     # Insert multiple records one by one\n",
    "    cur.execute(\"INSERT INTO students VALUES (1, 'Alice', 20, 'Female', 'Math', 88);\")\n",
    "    cur.execute(\"INSERT INTO students VALUES (2, 'Bob', 22, 'Male', 'Science', 76);\")\n",
    "    cur.execute(\"INSERT INTO students VALUES (3, 'Charlie', 21, 'Male', 'English', 91);\")\n",
    "\n",
    "    conn.commit()\n",
    "    print(\"Records inserted successfully!\")\n",
    "\n",
    "except psycopg2.Error as e:\n",
    "    print(\"Error while inserting data:\\n\", e)\n"
   ]
  },
  {
   "cell_type": "markdown",
   "id": "4360b4ff",
   "metadata": {},
   "source": [
    "## 6. Insert a single record"
   ]
  },
  {
   "cell_type": "code",
   "execution_count": 7,
   "id": "69235080",
   "metadata": {},
   "outputs": [
    {
     "name": "stdout",
     "output_type": "stream",
     "text": [
      "Data is inserted successfully!\n"
     ]
    }
   ],
   "source": [
    "try:\n",
    "    cur.execute(\n",
    "        \"INSERT INTO students (stud_id, name, age, gender, subject, marks) VALUES (%s, %s, %s, %s, %s, %s);\",\n",
    "        (4, 'Manan', 25, 'Male', 'Computer Science', 78)\n",
    "    )\n",
    "    conn.commit()\n",
    "    print(\"Data is inserted successfully!\")\n",
    "\n",
    "except psycopg2.Error as e:\n",
    "    print(\"Error raised is:\\n\", e)\n"
   ]
  },
  {
   "cell_type": "markdown",
   "id": "5ef49e3c",
   "metadata": {},
   "source": [
    "## 7. Print all records from table"
   ]
  },
  {
   "cell_type": "code",
   "execution_count": null,
   "id": "345db0ac",
   "metadata": {},
   "outputs": [],
   "source": [
    "try:\n",
    "    cur.execute(\"select * from students;\")\n",
    "    students = cur.fetchall()\n",
    "    print(\"The studnets are:\")\n",
    "    for s in students:\n",
    "        print(s)\n",
    "        \n",
    "    print(\"done!\")\n",
    "except psycopg2.Error as e:\n",
    "    print(\"Error is: \\n\", e)\n",
    "finally:\n",
    "    cur.close()\n",
    "    conn.close()"
   ]
  },
  {
   "cell_type": "markdown",
   "id": "9866b6c3",
   "metadata": {},
   "source": [
    "## 8. Re-establish the db connection"
   ]
  },
  {
   "cell_type": "code",
   "execution_count": 9,
   "id": "cd21816e",
   "metadata": {},
   "outputs": [
    {
     "name": "stdout",
     "output_type": "stream",
     "text": [
      "Database connected successfully!\n"
     ]
    }
   ],
   "source": [
    "try:\n",
    "    conn = psycopg2.connect(\n",
    "    host=\"localhost\",\n",
    "    port=\"5432\",\n",
    "    database=\"my_new_database\",\n",
    "    user=\"postgres\",\n",
    "    password=\"Postgres@14707\"    )\n",
    "    print(\"Database connected successfully!\")\n",
    "except psycopg2.Error as e:\n",
    "    print(\"Error while db connection : \\n\", e)"
   ]
  },
  {
   "cell_type": "markdown",
   "id": "4240358b",
   "metadata": {},
   "source": [
    "## 9. Read a csv file, and clean and transform it"
   ]
  },
  {
   "cell_type": "code",
   "execution_count": 20,
   "id": "bdd6d190",
   "metadata": {},
   "outputs": [
    {
     "data": {
      "text/html": [
       "<div>\n",
       "<style scoped>\n",
       "    .dataframe tbody tr th:only-of-type {\n",
       "        vertical-align: middle;\n",
       "    }\n",
       "\n",
       "    .dataframe tbody tr th {\n",
       "        vertical-align: top;\n",
       "    }\n",
       "\n",
       "    .dataframe thead th {\n",
       "        text-align: right;\n",
       "    }\n",
       "</style>\n",
       "<table border=\"1\" class=\"dataframe\">\n",
       "  <thead>\n",
       "    <tr style=\"text-align: right;\">\n",
       "      <th></th>\n",
       "      <th>Student_ID</th>\n",
       "      <th>Name</th>\n",
       "      <th>Age</th>\n",
       "      <th>Gender</th>\n",
       "      <th>State</th>\n",
       "      <th>Course</th>\n",
       "      <th>Marks</th>\n",
       "    </tr>\n",
       "  </thead>\n",
       "  <tbody>\n",
       "    <tr>\n",
       "      <th>0</th>\n",
       "      <td>1</td>\n",
       "      <td>Aarav</td>\n",
       "      <td>20</td>\n",
       "      <td>Male</td>\n",
       "      <td>Maharashtra</td>\n",
       "      <td>B.Tech</td>\n",
       "      <td>88</td>\n",
       "    </tr>\n",
       "    <tr>\n",
       "      <th>1</th>\n",
       "      <td>2</td>\n",
       "      <td>Diya</td>\n",
       "      <td>21</td>\n",
       "      <td>Female</td>\n",
       "      <td>Delhi</td>\n",
       "      <td>B.Com</td>\n",
       "      <td>92</td>\n",
       "    </tr>\n",
       "    <tr>\n",
       "      <th>2</th>\n",
       "      <td>3</td>\n",
       "      <td>Rohan</td>\n",
       "      <td>22</td>\n",
       "      <td>Male</td>\n",
       "      <td>Karnataka</td>\n",
       "      <td>B.Sc</td>\n",
       "      <td>79</td>\n",
       "    </tr>\n",
       "    <tr>\n",
       "      <th>3</th>\n",
       "      <td>4</td>\n",
       "      <td>Priya</td>\n",
       "      <td>20</td>\n",
       "      <td>Female</td>\n",
       "      <td>Tamil Nadu</td>\n",
       "      <td>BA</td>\n",
       "      <td>85</td>\n",
       "    </tr>\n",
       "    <tr>\n",
       "      <th>4</th>\n",
       "      <td>5</td>\n",
       "      <td>Kabir</td>\n",
       "      <td>23</td>\n",
       "      <td>Male</td>\n",
       "      <td>Punjab</td>\n",
       "      <td>BCA</td>\n",
       "      <td>90</td>\n",
       "    </tr>\n",
       "  </tbody>\n",
       "</table>\n",
       "</div>"
      ],
      "text/plain": [
       "   Student_ID   Name  Age  Gender        State  Course  Marks\n",
       "0           1  Aarav   20    Male  Maharashtra  B.Tech     88\n",
       "1           2   Diya   21  Female        Delhi   B.Com     92\n",
       "2           3  Rohan   22    Male    Karnataka    B.Sc     79\n",
       "3           4  Priya   20  Female   Tamil Nadu      BA     85\n",
       "4           5  Kabir   23    Male       Punjab     BCA     90"
      ]
     },
     "execution_count": 20,
     "metadata": {},
     "output_type": "execute_result"
    }
   ],
   "source": [
    "data = pd.read_csv(r\"C:\\Users\\Shivam\\Downloads\\indian_students.csv\")\n",
    "\n",
    "data"
   ]
  },
  {
   "cell_type": "code",
   "execution_count": 23,
   "id": "bf858fff",
   "metadata": {},
   "outputs": [],
   "source": [
    "data.rename(columns={\n",
    "    \"Student_ID\": \"stud_id\",\n",
    "    \"Name\": \"name\",\n",
    "    \"Age\": \"age\",\n",
    "    \"Gender\": \"gender\",\n",
    "    \"Course\": \"subject\",\n",
    "    \"Marks\": \"marks\"\n",
    "}, inplace=True)\n"
   ]
  },
  {
   "cell_type": "code",
   "execution_count": 25,
   "id": "cab4cd4c",
   "metadata": {},
   "outputs": [],
   "source": [
    "data.drop(columns=['State'], inplace=True)"
   ]
  },
  {
   "cell_type": "code",
   "execution_count": 28,
   "id": "dacab80e",
   "metadata": {},
   "outputs": [
    {
     "data": {
      "text/plain": [
       "[5, 6, 7, 8, 9]"
      ]
     },
     "execution_count": 28,
     "metadata": {},
     "output_type": "execute_result"
    }
   ],
   "source": [
    "vals = [i for i in range(5, 10)]\n",
    "vals"
   ]
  },
  {
   "cell_type": "code",
   "execution_count": 30,
   "id": "e945bf31",
   "metadata": {},
   "outputs": [
    {
     "data": {
      "text/html": [
       "<div>\n",
       "<style scoped>\n",
       "    .dataframe tbody tr th:only-of-type {\n",
       "        vertical-align: middle;\n",
       "    }\n",
       "\n",
       "    .dataframe tbody tr th {\n",
       "        vertical-align: top;\n",
       "    }\n",
       "\n",
       "    .dataframe thead th {\n",
       "        text-align: right;\n",
       "    }\n",
       "</style>\n",
       "<table border=\"1\" class=\"dataframe\">\n",
       "  <thead>\n",
       "    <tr style=\"text-align: right;\">\n",
       "      <th></th>\n",
       "      <th>stud_id</th>\n",
       "      <th>name</th>\n",
       "      <th>age</th>\n",
       "      <th>gender</th>\n",
       "      <th>subject</th>\n",
       "      <th>marks</th>\n",
       "    </tr>\n",
       "  </thead>\n",
       "  <tbody>\n",
       "    <tr>\n",
       "      <th>0</th>\n",
       "      <td>5</td>\n",
       "      <td>Aarav</td>\n",
       "      <td>20</td>\n",
       "      <td>Male</td>\n",
       "      <td>B.Tech</td>\n",
       "      <td>88</td>\n",
       "    </tr>\n",
       "    <tr>\n",
       "      <th>1</th>\n",
       "      <td>6</td>\n",
       "      <td>Diya</td>\n",
       "      <td>21</td>\n",
       "      <td>Female</td>\n",
       "      <td>B.Com</td>\n",
       "      <td>92</td>\n",
       "    </tr>\n",
       "    <tr>\n",
       "      <th>2</th>\n",
       "      <td>7</td>\n",
       "      <td>Rohan</td>\n",
       "      <td>22</td>\n",
       "      <td>Male</td>\n",
       "      <td>B.Sc</td>\n",
       "      <td>79</td>\n",
       "    </tr>\n",
       "    <tr>\n",
       "      <th>3</th>\n",
       "      <td>8</td>\n",
       "      <td>Priya</td>\n",
       "      <td>20</td>\n",
       "      <td>Female</td>\n",
       "      <td>BA</td>\n",
       "      <td>85</td>\n",
       "    </tr>\n",
       "    <tr>\n",
       "      <th>4</th>\n",
       "      <td>9</td>\n",
       "      <td>Kabir</td>\n",
       "      <td>23</td>\n",
       "      <td>Male</td>\n",
       "      <td>BCA</td>\n",
       "      <td>90</td>\n",
       "    </tr>\n",
       "  </tbody>\n",
       "</table>\n",
       "</div>"
      ],
      "text/plain": [
       "   stud_id   name  age  gender subject  marks\n",
       "0        5  Aarav   20    Male  B.Tech     88\n",
       "1        6   Diya   21  Female   B.Com     92\n",
       "2        7  Rohan   22    Male    B.Sc     79\n",
       "3        8  Priya   20  Female      BA     85\n",
       "4        9  Kabir   23    Male     BCA     90"
      ]
     },
     "execution_count": 30,
     "metadata": {},
     "output_type": "execute_result"
    }
   ],
   "source": [
    "data['stud_id'] = vals\n",
    "data"
   ]
  },
  {
   "cell_type": "code",
   "execution_count": 32,
   "id": "95bf6a8e",
   "metadata": {},
   "outputs": [
    {
     "name": "stdout",
     "output_type": "stream",
     "text": [
      "(5, 'Aarav', 20, 'Male', 'B.Tech', 88)\n",
      "(6, 'Diya', 21, 'Female', 'B.Com', 92)\n",
      "(7, 'Rohan', 22, 'Male', 'B.Sc', 79)\n",
      "(8, 'Priya', 20, 'Female', 'BA', 85)\n",
      "(9, 'Kabir', 23, 'Male', 'BCA', 90)\n"
     ]
    }
   ],
   "source": [
    "for index, row in data.iterrows():\n",
    "    print(tuple(row))\n"
   ]
  },
  {
   "cell_type": "markdown",
   "id": "851425f0",
   "metadata": {},
   "source": [
    "## 10. Insert data from csv file to table in database"
   ]
  },
  {
   "cell_type": "code",
   "execution_count": 34,
   "id": "56e411ba",
   "metadata": {},
   "outputs": [
    {
     "name": "stdout",
     "output_type": "stream",
     "text": [
      "Data inserted successfully!\n"
     ]
    },
    {
     "name": "stderr",
     "output_type": "stream",
     "text": [
      "C:\\Users\\Shivam\\AppData\\Local\\Temp\\ipykernel_3332\\3421009518.py:10: FutureWarning: Series.__getitem__ treating keys as positions is deprecated. In a future version, integer keys will always be treated as labels (consistent with DataFrame behavior). To access a value by position, use `ser.iloc[pos]`\n",
      "  cur.execute(insert_query, row)\n"
     ]
    }
   ],
   "source": [
    "try:\n",
    "    cur = conn.cursor()\n",
    "    \n",
    "    insert_query = \"\"\"\n",
    "        INSERT INTO students (stud_id, name, age, gender, subject, marks)\n",
    "        VALUES (%s, %s, %s, %s, %s, %s);\n",
    "    \"\"\"\n",
    "\n",
    "    for index, row in data.iterrows():\n",
    "        cur.execute(insert_query, row)\n",
    "\n",
    "    conn.commit()\n",
    "    print(\"Data inserted successfully!\")\n",
    "\n",
    "except psycopg2.Error as e:\n",
    "    print(\"Error while inserting data:\", e)\n"
   ]
  },
  {
   "cell_type": "code",
   "execution_count": null,
   "id": "4c4a13f5",
   "metadata": {},
   "outputs": [],
   "source": []
  }
 ],
 "metadata": {
  "kernelspec": {
   "display_name": "Python 3 (ipykernel)",
   "language": "python",
   "name": "python3"
  },
  "language_info": {
   "codemirror_mode": {
    "name": "ipython",
    "version": 3
   },
   "file_extension": ".py",
   "mimetype": "text/x-python",
   "name": "python",
   "nbconvert_exporter": "python",
   "pygments_lexer": "ipython3",
   "version": "3.11.3"
  }
 },
 "nbformat": 4,
 "nbformat_minor": 5
}
